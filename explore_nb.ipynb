{
 "cells": [
  {
   "cell_type": "code",
   "execution_count": 1,
   "metadata": {},
   "outputs": [],
   "source": [
    "import numpy as np\n",
    "import pandas as pd\n",
    "import sqlite3\n",
    "from sklearn.preprocessing import StandardScaler\n",
    "from pip._internal import main as pipmain\n",
    "\n",
    "from utils.data_extraction import data_extract\n",
    "# from utils.preprocessing import preprocessing_df"
   ]
  },
  {
   "cell_type": "code",
   "execution_count": 27,
   "metadata": {},
   "outputs": [],
   "source": [
    "# preprocessing.py\n",
    "\n",
    "def cleaning_df(df):\n",
    "    # turning impossible values into NaN\n",
    "    df.loc[df[\"Birthday\"] < 1900, \"Birthday\"] = np.nan\n",
    "    df.loc[df[\"First_Policy\"] > 2020, \"First_Policy\"] = np.nan\n",
    "    # turning Education into numeric\n",
    "    df[\"Education\"] = df[\"Education\"].str.extract(r\"(\\d)\").astype(np.float)\n",
    "    return df\n",
    "\n",
    "\n",
    "def add_dummies(df, cols):\n",
    "    \"\"\"Adds dummy columns to selected variables using the One Hot Encoding method.\n",
    "    Drops the first column.\"\"\"\n",
    "    df_with_dummies = pd.get_dummies(df, columns=cols, drop_first=True)\n",
    "    return df_with_dummies\n",
    "\n",
    "\n",
    "def outlier_conditions(df):\n",
    "    \"\"\"\n",
    "    Sets the condition for the identification of outliers in a dataframe\n",
    "    \"\"\"\n",
    "    return ~(np.abs(df - df.mean()) > (3 * df.std()))\n",
    "\n",
    "\n",
    "def remove_outliers(df, cols):\n",
    "    \"\"\"\n",
    "    Replaces outliers by NaNs.\n",
    "    Selected columns must be numerical.\n",
    "    \"\"\"\n",
    "    outlier_df_cond = outlier_conditions(df)\n",
    "    outliers_count = (\n",
    "        (df[cols] == df[outlier_df_cond][cols]) == False\n",
    "        )[cols].sum()\n",
    "    \n",
    "    temp_df = df[cols].copy()\n",
    "    outlier_tempdf_cond = outlier_conditions(temp_df)\n",
    "    temp_df = temp_df[outlier_tempdf_cond]\n",
    "    \n",
    "    df.loc[:, cols] = temp_df.loc[:, cols].copy()\n",
    "    return df, outliers_count\n",
    "\n",
    "\n",
    "def handle_nans(df, cols):\n",
    "    \"\"\"\n",
    "    Replaces NaNs by column mean.\n",
    "    Selected columns must be numerical.\n",
    "    \"\"\"\n",
    "    df.fillna(df.mean()[cols], inplace=True)\n",
    "    return df\n",
    "\n",
    "\n",
    "def standardize_data(df, cols):\n",
    "    \"\"\"Standardizes data from `cols`.\n",
    "    cols -> list\n",
    "    \"\"\"\n",
    "    df[cols] = StandardScaler().fit_transform(df[cols])\n",
    "    return df\n",
    "\n",
    "\n",
    "def preprocessing_df(df):\n",
    "    df = cleaning_df(df)\n",
    "    df, outliers_count = remove_outliers(df, ['Motor', 'Household', 'Health', 'Life', 'Work_Compensation'])\n",
    "    df = handle_nans(df, [\"Salary\", \"First_Policy\", \"Birthday\", \"Children\", 'Motor', 'Household', 'Health', 'Life', 'Work_Compensation'])\n",
    "    df[\"Children\"] = df[\"Children\"].astype(np.int8)\n",
    "    df = standardize_data(df, ['Motor', 'Household', 'Health', 'Life', 'Work_Compensation'])\n",
    "    df = add_dummies(df, ['Area', 'Education'])\n",
    "#     duplicated rows (showing only the duplicates)\n",
    "    dups_df = df[df.duplicated(keep=\"first\")].copy()\n",
    "    return df, outliers_count, dups_df"
   ]
  },
  {
   "cell_type": "code",
   "execution_count": 28,
   "metadata": {},
   "outputs": [],
   "source": [
    "# project.py\n",
    "\n",
    "my_path = r'.\\data\\insurance.db'\n",
    "profile = False\n",
    "\n",
    "_, df = data_extract(my_path)\n",
    "\n",
    "if profile:\n",
    "    try:\n",
    "        import pandas_profiling\n",
    "    except ImportError as e:\n",
    "        print(e.args)\n",
    "        pipmain(['install', 'pandas_profiling'])\n",
    "        import pandas_profiling\n",
    "    prof = df.profile_report(style={'full_width': True}, title='Pandas Profiling Report')\n",
    "    prof.to_file(output_file=\"./out/df_profiling.html\")\n",
    "\n",
    "df, outliers_count, dups_df = preprocessing_df(df)"
   ]
  },
  {
   "cell_type": "code",
   "execution_count": 31,
   "metadata": {},
   "outputs": [
    {
     "data": {
      "text/plain": [
       "3"
      ]
     },
     "execution_count": 31,
     "metadata": {},
     "output_type": "execute_result"
    }
   ],
   "source": [
    "len(dups_df)"
   ]
  },
  {
   "cell_type": "code",
   "execution_count": 4,
   "metadata": {},
   "outputs": [
    {
     "data": {
      "text/plain": [
       "Motor                 40\n",
       "Household             36\n",
       "Health                46\n",
       "Life                 314\n",
       "Work_Compensation    245\n",
       "dtype: int64"
      ]
     },
     "execution_count": 4,
     "metadata": {},
     "output_type": "execute_result"
    }
   ],
   "source": [
    "outliers_count"
   ]
  },
  {
   "cell_type": "code",
   "execution_count": 5,
   "metadata": {},
   "outputs": [
    {
     "data": {
      "text/html": [
       "<div>\n",
       "<style scoped>\n",
       "    .dataframe tbody tr th:only-of-type {\n",
       "        vertical-align: middle;\n",
       "    }\n",
       "\n",
       "    .dataframe tbody tr th {\n",
       "        vertical-align: top;\n",
       "    }\n",
       "\n",
       "    .dataframe thead th {\n",
       "        text-align: right;\n",
       "    }\n",
       "</style>\n",
       "<table border=\"1\" class=\"dataframe\">\n",
       "  <thead>\n",
       "    <tr style=\"text-align: right;\">\n",
       "      <th></th>\n",
       "      <th>First_Policy</th>\n",
       "      <th>Birthday</th>\n",
       "      <th>Salary</th>\n",
       "      <th>Children</th>\n",
       "      <th>CMV</th>\n",
       "      <th>Claims</th>\n",
       "      <th>Motor</th>\n",
       "      <th>Household</th>\n",
       "      <th>Health</th>\n",
       "      <th>Life</th>\n",
       "      <th>Work_Compensation</th>\n",
       "      <th>Area_2.0</th>\n",
       "      <th>Area_3.0</th>\n",
       "      <th>Area_4.0</th>\n",
       "      <th>Education_2.0</th>\n",
       "      <th>Education_3.0</th>\n",
       "      <th>Education_4.0</th>\n",
       "    </tr>\n",
       "    <tr>\n",
       "      <th>ID</th>\n",
       "      <th></th>\n",
       "      <th></th>\n",
       "      <th></th>\n",
       "      <th></th>\n",
       "      <th></th>\n",
       "      <th></th>\n",
       "      <th></th>\n",
       "      <th></th>\n",
       "      <th></th>\n",
       "      <th></th>\n",
       "      <th></th>\n",
       "      <th></th>\n",
       "      <th></th>\n",
       "      <th></th>\n",
       "      <th></th>\n",
       "      <th></th>\n",
       "      <th></th>\n",
       "    </tr>\n",
       "  </thead>\n",
       "  <tbody>\n",
       "    <tr>\n",
       "      <td>1</td>\n",
       "      <td>1985.0</td>\n",
       "      <td>1982.0</td>\n",
       "      <td>2177.0</td>\n",
       "      <td>1</td>\n",
       "      <td>380.97</td>\n",
       "      <td>0.39</td>\n",
       "      <td>0.571983</td>\n",
       "      <td>-0.550470</td>\n",
       "      <td>-0.289996</td>\n",
       "      <td>2.384159e-01</td>\n",
       "      <td>-0.537669</td>\n",
       "      <td>0</td>\n",
       "      <td>0</td>\n",
       "      <td>0</td>\n",
       "      <td>1</td>\n",
       "      <td>0</td>\n",
       "      <td>0</td>\n",
       "    </tr>\n",
       "    <tr>\n",
       "      <td>2</td>\n",
       "      <td>1981.0</td>\n",
       "      <td>1995.0</td>\n",
       "      <td>677.0</td>\n",
       "      <td>1</td>\n",
       "      <td>-131.13</td>\n",
       "      <td>1.12</td>\n",
       "      <td>-1.592600</td>\n",
       "      <td>0.955143</td>\n",
       "      <td>-0.687859</td>\n",
       "      <td>6.581986e-14</td>\n",
       "      <td>1.752540</td>\n",
       "      <td>0</td>\n",
       "      <td>0</td>\n",
       "      <td>1</td>\n",
       "      <td>1</td>\n",
       "      <td>0</td>\n",
       "      <td>0</td>\n",
       "    </tr>\n",
       "    <tr>\n",
       "      <td>3</td>\n",
       "      <td>1991.0</td>\n",
       "      <td>1970.0</td>\n",
       "      <td>2277.0</td>\n",
       "      <td>0</td>\n",
       "      <td>504.67</td>\n",
       "      <td>0.28</td>\n",
       "      <td>-0.659056</td>\n",
       "      <td>0.098050</td>\n",
       "      <td>-0.582057</td>\n",
       "      <td>1.267848e+00</td>\n",
       "      <td>1.570073</td>\n",
       "      <td>0</td>\n",
       "      <td>1</td>\n",
       "      <td>0</td>\n",
       "      <td>0</td>\n",
       "      <td>0</td>\n",
       "      <td>0</td>\n",
       "    </tr>\n",
       "    <tr>\n",
       "      <td>4</td>\n",
       "      <td>1990.0</td>\n",
       "      <td>1981.0</td>\n",
       "      <td>1099.0</td>\n",
       "      <td>1</td>\n",
       "      <td>-16.99</td>\n",
       "      <td>0.99</td>\n",
       "      <td>-0.830763</td>\n",
       "      <td>-0.711873</td>\n",
       "      <td>1.920039</td>\n",
       "      <td>-6.695965e-02</td>\n",
       "      <td>-0.243822</td>\n",
       "      <td>0</td>\n",
       "      <td>0</td>\n",
       "      <td>1</td>\n",
       "      <td>0</td>\n",
       "      <td>1</td>\n",
       "      <td>0</td>\n",
       "    </tr>\n",
       "    <tr>\n",
       "      <td>5</td>\n",
       "      <td>1986.0</td>\n",
       "      <td>1973.0</td>\n",
       "      <td>1763.0</td>\n",
       "      <td>1</td>\n",
       "      <td>35.23</td>\n",
       "      <td>0.90</td>\n",
       "      <td>0.301909</td>\n",
       "      <td>-0.691977</td>\n",
       "      <td>0.195833</td>\n",
       "      <td>-5.002947e-01</td>\n",
       "      <td>0.092626</td>\n",
       "      <td>0</td>\n",
       "      <td>0</td>\n",
       "      <td>1</td>\n",
       "      <td>0</td>\n",
       "      <td>1</td>\n",
       "      <td>0</td>\n",
       "    </tr>\n",
       "  </tbody>\n",
       "</table>\n",
       "</div>"
      ],
      "text/plain": [
       "    First_Policy  Birthday  Salary  Children     CMV  Claims     Motor  \\\n",
       "ID                                                                       \n",
       "1         1985.0    1982.0  2177.0         1  380.97    0.39  0.571983   \n",
       "2         1981.0    1995.0   677.0         1 -131.13    1.12 -1.592600   \n",
       "3         1991.0    1970.0  2277.0         0  504.67    0.28 -0.659056   \n",
       "4         1990.0    1981.0  1099.0         1  -16.99    0.99 -0.830763   \n",
       "5         1986.0    1973.0  1763.0         1   35.23    0.90  0.301909   \n",
       "\n",
       "    Household    Health          Life  Work_Compensation  Area_2.0  Area_3.0  \\\n",
       "ID                                                                             \n",
       "1   -0.550470 -0.289996  2.384159e-01          -0.537669         0         0   \n",
       "2    0.955143 -0.687859  6.581986e-14           1.752540         0         0   \n",
       "3    0.098050 -0.582057  1.267848e+00           1.570073         0         1   \n",
       "4   -0.711873  1.920039 -6.695965e-02          -0.243822         0         0   \n",
       "5   -0.691977  0.195833 -5.002947e-01           0.092626         0         0   \n",
       "\n",
       "    Area_4.0  Education_2.0  Education_3.0  Education_4.0  \n",
       "ID                                                         \n",
       "1          0              1              0              0  \n",
       "2          1              1              0              0  \n",
       "3          0              0              0              0  \n",
       "4          1              0              1              0  \n",
       "5          1              0              1              0  "
      ]
     },
     "execution_count": 5,
     "metadata": {},
     "output_type": "execute_result"
    }
   ],
   "source": [
    "df.head()"
   ]
  },
  {
   "cell_type": "code",
   "execution_count": 6,
   "metadata": {},
   "outputs": [
    {
     "data": {
      "text/plain": [
       "Index(['First_Policy', 'Birthday', 'Salary', 'Children', 'CMV', 'Claims',\n",
       "       'Motor', 'Household', 'Health', 'Life', 'Work_Compensation', 'Area_2.0',\n",
       "       'Area_3.0', 'Area_4.0', 'Education_2.0', 'Education_3.0',\n",
       "       'Education_4.0'],\n",
       "      dtype='object')"
      ]
     },
     "execution_count": 6,
     "metadata": {},
     "output_type": "execute_result"
    }
   ],
   "source": [
    "df.columns"
   ]
  },
  {
   "cell_type": "code",
   "execution_count": 7,
   "metadata": {},
   "outputs": [
    {
     "data": {
      "text/plain": [
       "False"
      ]
     },
     "execution_count": 7,
     "metadata": {},
     "output_type": "execute_result"
    }
   ],
   "source": [
    "df.isna().any().any()"
   ]
  },
  {
   "cell_type": "code",
   "execution_count": 8,
   "metadata": {
    "scrolled": false
   },
   "outputs": [
    {
     "name": "stdout",
     "output_type": "stream",
     "text": [
      "column 'First_Policy':\n",
      "no. of uniques: 26 || float64\n",
      "\n",
      "column 'Birthday':\n",
      "no. of uniques: 68 || float64\n",
      "\n",
      "column 'Salary':\n",
      "no. of uniques: 3566 || float64\n",
      "\n",
      "column 'Children':\n",
      "no. of uniques: 2 || int8 || [1, 0]\n",
      "\n",
      "column 'CMV':\n",
      "no. of uniques: 7012 || float64\n",
      "\n",
      "column 'Claims':\n",
      "no. of uniques: 165 || float64\n",
      "\n",
      "column 'Motor':\n",
      "no. of uniques: 1945 || float64\n",
      "\n",
      "column 'Household':\n",
      "no. of uniques: 1028 || float64\n",
      "\n",
      "column 'Health':\n",
      "no. of uniques: 1004 || float64\n",
      "\n",
      "column 'Life':\n",
      "no. of uniques: 465 || float64\n",
      "\n",
      "column 'Work_Compensation':\n",
      "no. of uniques: 771 || float64\n",
      "\n",
      "column 'Area_2.0':\n",
      "no. of uniques: 2 || uint8 || [0, 1]\n",
      "\n",
      "column 'Area_3.0':\n",
      "no. of uniques: 2 || uint8 || [0, 1]\n",
      "\n",
      "column 'Area_4.0':\n",
      "no. of uniques: 2 || uint8 || [0, 1]\n",
      "\n",
      "column 'Education_2.0':\n",
      "no. of uniques: 2 || uint8 || [1, 0]\n",
      "\n",
      "column 'Education_3.0':\n",
      "no. of uniques: 2 || uint8 || [0, 1]\n",
      "\n",
      "column 'Education_4.0':\n",
      "no. of uniques: 2 || uint8 || [0, 1]\n",
      "\n"
     ]
    }
   ],
   "source": [
    "for i in df.columns:\n",
    "    if df.nunique()[i] < 10:\n",
    "        print(f\"column '{i}':\\nno. of uniques: {df.nunique()[i]} || {df.dtypes[i]} || {df[i].unique().tolist()}\\n\")\n",
    "    else:\n",
    "        print(f\"column '{i}':\\nno. of uniques: {df.nunique()[i]} || {df.dtypes[i]}\\n\")"
   ]
  },
  {
   "cell_type": "code",
   "execution_count": 21,
   "metadata": {},
   "outputs": [],
   "source": [
    "cols_for_clustering = []"
   ]
  },
  {
   "cell_type": "code",
   "execution_count": 22,
   "metadata": {},
   "outputs": [],
   "source": [
    "dummycols = df.columns[df.columns.str.startswith(\"Education\") | df.columns.str.startswith(\"Area\")].tolist()"
   ]
  },
  {
   "cell_type": "code",
   "execution_count": 23,
   "metadata": {},
   "outputs": [],
   "source": [
    "cols_for_clustering.extend(dummycols)"
   ]
  },
  {
   "cell_type": "code",
   "execution_count": 24,
   "metadata": {},
   "outputs": [
    {
     "data": {
      "text/plain": [
       "['Area_2.0',\n",
       " 'Area_3.0',\n",
       " 'Area_4.0',\n",
       " 'Education_2.0',\n",
       " 'Education_3.0',\n",
       " 'Education_4.0']"
      ]
     },
     "execution_count": 24,
     "metadata": {},
     "output_type": "execute_result"
    }
   ],
   "source": [
    "cols_for_clustering."
   ]
  },
  {
   "cell_type": "code",
   "execution_count": null,
   "metadata": {},
   "outputs": [],
   "source": [
    "# might be handy: https://github.com/joaolcorreia/RFM-analysis"
   ]
  }
 ],
 "metadata": {
  "kernelspec": {
   "display_name": "Python 3",
   "language": "python",
   "name": "python3"
  },
  "language_info": {
   "codemirror_mode": {
    "name": "ipython",
    "version": 3
   },
   "file_extension": ".py",
   "mimetype": "text/x-python",
   "name": "python",
   "nbconvert_exporter": "python",
   "pygments_lexer": "ipython3",
   "version": "3.7.4"
  }
 },
 "nbformat": 4,
 "nbformat_minor": 2
}
