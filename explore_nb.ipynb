{
 "cells": [
  {
   "cell_type": "code",
   "execution_count": 1,
   "metadata": {},
   "outputs": [],
   "source": [
    "import numpy as np\n",
    "import pandas as pd\n",
    "from project import run\n",
    "\n",
    "# setting display options\n",
    "pd.set_option('display.width', 4000)\n",
    "pd.set_option('max_colwidth', 4000)\n",
    "pd.set_option('max_rows', 100)\n",
    "pd.set_option('max_columns', 200)\n",
    "pd.set_option('display.float_format', '{:.2f}'.format)"
   ]
  },
  {
   "cell_type": "code",
   "execution_count": 2,
   "metadata": {},
   "outputs": [
    {
     "name": "stdout",
     "output_type": "stream",
     "text": [
      "outlier_count:\n",
      "Motor                 40\n",
      "Household             36\n",
      "Health                46\n",
      "Life                 314\n",
      "Work_Compensation    245\n",
      "dtype: int64\n",
      "\n",
      "    First_Policy  Birthday Education  Salary Area  Children     CMV  Claims  Motor  Household  Health  Life  Work_Compensation\n",
      "ID                                                                                                                            \n",
      "1           1985      1982         2    2177    1         1  380.97    0.39   0.57      -0.55   -0.29  0.24              -0.54\n",
      "2           1981      1995         2     677    4         1 -131.13    1.12  -1.59       0.96   -0.69  0.00               1.75\n"
     ]
    }
   ],
   "source": [
    "my_path = r'.\\data\\insurance.db'\n",
    "\n",
    "df = run(my_path, nb_exploration=True)"
   ]
  },
  {
   "cell_type": "code",
   "execution_count": 3,
   "metadata": {},
   "outputs": [
    {
     "data": {
      "text/html": [
       "<div>\n",
       "<style scoped>\n",
       "    .dataframe tbody tr th:only-of-type {\n",
       "        vertical-align: middle;\n",
       "    }\n",
       "\n",
       "    .dataframe tbody tr th {\n",
       "        vertical-align: top;\n",
       "    }\n",
       "\n",
       "    .dataframe thead th {\n",
       "        text-align: right;\n",
       "    }\n",
       "</style>\n",
       "<table border=\"1\" class=\"dataframe\">\n",
       "  <thead>\n",
       "    <tr style=\"text-align: right;\">\n",
       "      <th></th>\n",
       "      <th>First_Policy</th>\n",
       "      <th>Birthday</th>\n",
       "      <th>Education</th>\n",
       "      <th>Salary</th>\n",
       "      <th>Area</th>\n",
       "      <th>Children</th>\n",
       "      <th>CMV</th>\n",
       "      <th>Claims</th>\n",
       "      <th>Motor</th>\n",
       "      <th>Household</th>\n",
       "      <th>Health</th>\n",
       "      <th>Life</th>\n",
       "      <th>Work_Compensation</th>\n",
       "    </tr>\n",
       "    <tr>\n",
       "      <th>ID</th>\n",
       "      <th></th>\n",
       "      <th></th>\n",
       "      <th></th>\n",
       "      <th></th>\n",
       "      <th></th>\n",
       "      <th></th>\n",
       "      <th></th>\n",
       "      <th></th>\n",
       "      <th></th>\n",
       "      <th></th>\n",
       "      <th></th>\n",
       "      <th></th>\n",
       "      <th></th>\n",
       "    </tr>\n",
       "  </thead>\n",
       "  <tbody>\n",
       "    <tr>\n",
       "      <td>1</td>\n",
       "      <td>1985</td>\n",
       "      <td>1982</td>\n",
       "      <td>2</td>\n",
       "      <td>2177</td>\n",
       "      <td>1</td>\n",
       "      <td>1</td>\n",
       "      <td>380.97</td>\n",
       "      <td>0.39</td>\n",
       "      <td>0.57</td>\n",
       "      <td>-0.55</td>\n",
       "      <td>-0.29</td>\n",
       "      <td>0.24</td>\n",
       "      <td>-0.54</td>\n",
       "    </tr>\n",
       "    <tr>\n",
       "      <td>2</td>\n",
       "      <td>1981</td>\n",
       "      <td>1995</td>\n",
       "      <td>2</td>\n",
       "      <td>677</td>\n",
       "      <td>4</td>\n",
       "      <td>1</td>\n",
       "      <td>-131.13</td>\n",
       "      <td>1.12</td>\n",
       "      <td>-1.59</td>\n",
       "      <td>0.96</td>\n",
       "      <td>-0.69</td>\n",
       "      <td>0.00</td>\n",
       "      <td>1.75</td>\n",
       "    </tr>\n",
       "    <tr>\n",
       "      <td>3</td>\n",
       "      <td>1991</td>\n",
       "      <td>1970</td>\n",
       "      <td>1</td>\n",
       "      <td>2277</td>\n",
       "      <td>3</td>\n",
       "      <td>0</td>\n",
       "      <td>504.67</td>\n",
       "      <td>0.28</td>\n",
       "      <td>-0.66</td>\n",
       "      <td>0.10</td>\n",
       "      <td>-0.58</td>\n",
       "      <td>1.27</td>\n",
       "      <td>1.57</td>\n",
       "    </tr>\n",
       "    <tr>\n",
       "      <td>4</td>\n",
       "      <td>1990</td>\n",
       "      <td>1981</td>\n",
       "      <td>3</td>\n",
       "      <td>1099</td>\n",
       "      <td>4</td>\n",
       "      <td>1</td>\n",
       "      <td>-16.99</td>\n",
       "      <td>0.99</td>\n",
       "      <td>-0.83</td>\n",
       "      <td>-0.71</td>\n",
       "      <td>1.92</td>\n",
       "      <td>-0.07</td>\n",
       "      <td>-0.24</td>\n",
       "    </tr>\n",
       "    <tr>\n",
       "      <td>5</td>\n",
       "      <td>1986</td>\n",
       "      <td>1973</td>\n",
       "      <td>3</td>\n",
       "      <td>1763</td>\n",
       "      <td>4</td>\n",
       "      <td>1</td>\n",
       "      <td>35.23</td>\n",
       "      <td>0.90</td>\n",
       "      <td>0.30</td>\n",
       "      <td>-0.69</td>\n",
       "      <td>0.20</td>\n",
       "      <td>-0.50</td>\n",
       "      <td>0.09</td>\n",
       "    </tr>\n",
       "  </tbody>\n",
       "</table>\n",
       "</div>"
      ],
      "text/plain": [
       "    First_Policy  Birthday Education  Salary Area  Children     CMV  Claims  Motor  Household  Health  Life  Work_Compensation\n",
       "ID                                                                                                                            \n",
       "1           1985      1982         2    2177    1         1  380.97    0.39   0.57      -0.55   -0.29  0.24              -0.54\n",
       "2           1981      1995         2     677    4         1 -131.13    1.12  -1.59       0.96   -0.69  0.00               1.75\n",
       "3           1991      1970         1    2277    3         0  504.67    0.28  -0.66       0.10   -0.58  1.27               1.57\n",
       "4           1990      1981         3    1099    4         1  -16.99    0.99  -0.83      -0.71    1.92 -0.07              -0.24\n",
       "5           1986      1973         3    1763    4         1   35.23    0.90   0.30      -0.69    0.20 -0.50               0.09"
      ]
     },
     "execution_count": 3,
     "metadata": {},
     "output_type": "execute_result"
    }
   ],
   "source": [
    "df.head()"
   ]
  },
  {
   "cell_type": "code",
   "execution_count": 4,
   "metadata": {},
   "outputs": [
    {
     "data": {
      "text/plain": [
       "Index(['First_Policy', 'Birthday', 'Education', 'Salary', 'Area', 'Children', 'CMV', 'Claims', 'Motor', 'Household', 'Health', 'Life', 'Work_Compensation'], dtype='object')"
      ]
     },
     "execution_count": 4,
     "metadata": {},
     "output_type": "execute_result"
    }
   ],
   "source": [
    "df.columns"
   ]
  },
  {
   "cell_type": "code",
   "execution_count": 5,
   "metadata": {},
   "outputs": [
    {
     "data": {
      "text/plain": [
       "False"
      ]
     },
     "execution_count": 5,
     "metadata": {},
     "output_type": "execute_result"
    }
   ],
   "source": [
    "df.isna().any().any()"
   ]
  },
  {
   "cell_type": "code",
   "execution_count": 6,
   "metadata": {
    "scrolled": false
   },
   "outputs": [
    {
     "name": "stdout",
     "output_type": "stream",
     "text": [
      "column 'First_Policy':\n",
      "\tno. of uniques: 25\t| int32 |\n",
      "\n",
      "column 'Birthday':\n",
      "\tno. of uniques: 67\t| int32 |\n",
      "\n",
      "column 'Education':\n",
      "\tno. of uniques: 4\t| category\t |\t[2, 1, 3, 4]\n",
      "\n",
      "column 'Salary':\n",
      "\tno. of uniques: 3565\t| int32 |\n",
      "\n",
      "column 'Area':\n",
      "\tno. of uniques: 4\t| category\t |\t[1, 4, 3, 2]\n",
      "\n",
      "column 'Children':\n",
      "\tno. of uniques: 2\t| int32\t |\t[1, 0]\n",
      "\n",
      "column 'CMV':\n",
      "\tno. of uniques: 7012\t| float64 |\n",
      "\n",
      "column 'Claims':\n",
      "\tno. of uniques: 165\t| float64 |\n",
      "\n",
      "column 'Motor':\n",
      "\tno. of uniques: 1945\t| float64 |\n",
      "\n",
      "column 'Household':\n",
      "\tno. of uniques: 1028\t| float64 |\n",
      "\n",
      "column 'Health':\n",
      "\tno. of uniques: 1004\t| float64 |\n",
      "\n",
      "column 'Life':\n",
      "\tno. of uniques: 465\t| float64 |\n",
      "\n",
      "column 'Work_Compensation':\n",
      "\tno. of uniques: 771\t| float64 |\n",
      "\n"
     ]
    }
   ],
   "source": [
    "for i in df.columns:\n",
    "    if df[i].nunique() < 20:\n",
    "        print(f\"column '{i}':\\n\\tno. of uniques: {df.nunique()[i]}\\t| {df.dtypes[i]}\\t |\\t{df[i].unique().tolist()}\\n\")\n",
    "    else:\n",
    "        print(f\"column '{i}':\\n\\tno. of uniques: {df.nunique()[i]}\\t| {df.dtypes[i]} |\\n\")"
   ]
  },
  {
   "cell_type": "code",
   "execution_count": 7,
   "metadata": {},
   "outputs": [],
   "source": [
    "cols_for_clustering = []"
   ]
  },
  {
   "cell_type": "code",
   "execution_count": 8,
   "metadata": {},
   "outputs": [],
   "source": [
    "dummycols = df.columns[df.columns.str.startswith(\"Education\") | df.columns.str.startswith(\"Area\")].tolist()"
   ]
  },
  {
   "cell_type": "code",
   "execution_count": 9,
   "metadata": {},
   "outputs": [],
   "source": [
    "cols_for_clustering.extend(dummycols)\n",
    "cols_for_clustering.extend(['Motor', 'Household', 'Health', 'Life', 'Work_Compensation'])"
   ]
  },
  {
   "cell_type": "code",
   "execution_count": 12,
   "metadata": {},
   "outputs": [
    {
     "data": {
      "text/plain": [
       "['Education',\n",
       " 'Area',\n",
       " 'Motor',\n",
       " 'Household',\n",
       " 'Health',\n",
       " 'Life',\n",
       " 'Work_Compensation']"
      ]
     },
     "execution_count": 12,
     "metadata": {},
     "output_type": "execute_result"
    }
   ],
   "source": [
    "cols_for_clustering"
   ]
  },
  {
   "cell_type": "code",
   "execution_count": 11,
   "metadata": {},
   "outputs": [],
   "source": [
    "# might be handaay: https://github.com/joaolcorreia/RFM-analysis"
   ]
  }
 ],
 "metadata": {
  "kernelspec": {
   "display_name": "Python 3",
   "language": "python",
   "name": "python3"
  },
  "language_info": {
   "codemirror_mode": {
    "name": "ipython",
    "version": 3
   },
   "file_extension": ".py",
   "mimetype": "text/x-python",
   "name": "python",
   "nbconvert_exporter": "python",
   "pygments_lexer": "ipython3",
   "version": "3.7.4"
  }
 },
 "nbformat": 4,
 "nbformat_minor": 2
}
